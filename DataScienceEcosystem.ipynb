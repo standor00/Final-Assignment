{
 "cells": [
  {
   "cell_type": "markdown",
   "id": "81c818e7-de26-4812-8ac8-0bbabe767981",
   "metadata": {},
   "source": [
    "# Data Science Tools and Ecosystem"
   ]
  },
  {
   "cell_type": "markdown",
   "id": "67aa4c3b-eca9-404d-9018-1108a0e9e6d2",
   "metadata": {},
   "source": [
    "## Introduction\n",
    "In this notebook, Data Science Tools and Ecosystems are summarised."
   ]
  },
  {
   "cell_type": "markdown",
   "id": "3ff2e6ef-262e-4a53-87b9-ca2ee55e8e77",
   "metadata": {},
   "source": [
    "# Objectives\n",
    "- List popular languages for Data Science\n",
    "- List commonly used data science libraries\n",
    "- List some data science tools\n",
    "- Show some examples of possible arithmetic expressions"
   ]
  },
  {
   "cell_type": "markdown",
   "id": "043c4d06-11cc-4303-8a66-6e21710ce407",
   "metadata": {},
   "source": [
    "Some of the popular languages that Data Scientists use are:\n",
    "1. Python\n",
    "2. R\n",
    "3. Julia\n",
    "4. SQL\n",
    "5. Scala\n",
    "6. C++\n",
    "7. Javascript\n",
    "8. PHP\n",
    "9. GO\n",
    "10. Visual Basic"
   ]
  },
  {
   "cell_type": "markdown",
   "id": "762ad488-a0d8-45e0-8f42-73aff6338a3c",
   "metadata": {},
   "source": [
    "Some of the commonly used libraries used by Data Scientists include:\n",
    "1. Numpy\n",
    "2. Scikit-Learn\n",
    "3. Keras\n",
    "4. Pandas\n",
    "5. Tensor Flow\n",
    "6. Plotly\n",
    "7. Seaborn\n",
    "8. Matplotlib\n",
    "9. Scipy\n",
    "10. BeautifulSoup"
   ]
  },
  {
   "cell_type": "markdown",
   "id": "0b5301b8-1cb0-4540-932b-0adb5f1adecc",
   "metadata": {},
   "source": [
    "|Data Science Tools|\n",
    "|:------|\n",
    "|RStudio|\n",
    "|JupyterLab|\n",
    "|Visual Studio Code|"
   ]
  },
  {
   "cell_type": "markdown",
   "id": "b4149cf7-0b74-4f52-a16b-f81c420b64f0",
   "metadata": {},
   "source": [
    "### Below are a few examples of evaluating arithmetic expressions in Python\n",
    "B = 2 <br>\n",
    "C = 4.0 <br>\n",
    "D = B * C <br>\n",
    "E = B ** 2  <br>"
   ]
  },
  {
   "cell_type": "code",
   "execution_count": 53,
   "id": "15c1c2b0-8f37-4b93-bb75-cc3b5002bef0",
   "metadata": {},
   "outputs": [
    {
     "data": {
      "text/plain": [
       "17"
      ]
     },
     "execution_count": 53,
     "metadata": {},
     "output_type": "execute_result"
    }
   ],
   "source": [
    "#  This a simple arithmetic expression to mutiply then add integers\n",
    "\n",
    "(3*4)+5"
   ]
  },
  {
   "cell_type": "code",
   "execution_count": 63,
   "id": "0b481462-895b-4976-9faa-10e166931242",
   "metadata": {},
   "outputs": [
    {
     "name": "stdout",
     "output_type": "stream",
     "text": [
      "200 minutes is 3.33 hours\n"
     ]
    }
   ],
   "source": [
    "# This will convert 200 minutes to hours by diving by 60\n",
    "\n",
    "print(\"200 minutes is\", round(200/60, 2), \"hours\")"
   ]
  },
  {
   "cell_type": "markdown",
   "id": "0a40f62c-481b-43bd-9373-0c9f3219cd52",
   "metadata": {},
   "source": [
    "## Author\n",
    "Stanley Okafor"
   ]
  },
  {
   "cell_type": "markdown",
   "id": "d50dfcf0-1201-4524-af6c-ff12187f6490",
   "metadata": {},
   "source": [
    "<style>\n",
    "    .container {\n",
    "        margin-left: 0 !important; /* Align the container to the left */\n",
    "        max-width: 100% !important; /* Allow full-width content */\n",
    "    }\n",
    "    div.text_cell_render {\n",
    "        text-align: left; /* Align text in Markdown cells to the left */\n",
    "    }\n",
    "</style>"
   ]
  },
  {
   "cell_type": "markdown",
   "id": "9ec0632b-3219-4c25-b5d0-c7eb7ed94482",
   "metadata": {},
   "source": [
    "<style>\n",
    "    .container {\n",
    "        margin-left: 0 !important; /* Align the container to the left */\n",
    "        max-width: 100% !important; /* Allow full-width content */\n",
    "    }\n",
    "    div.text_cell_render {\n",
    "        text-align: left; /* Align text in Markdown cells to the left */\n",
    "    }\n",
    "</style>"
   ]
  },
  {
   "cell_type": "code",
   "execution_count": null,
   "id": "f569201f-3f50-4374-b15a-6cf228d2fd8a",
   "metadata": {},
   "outputs": [],
   "source": []
  }
 ],
 "metadata": {
  "kernelspec": {
   "display_name": "Python 3 (ipykernel)",
   "language": "python",
   "name": "python3"
  },
  "language_info": {
   "codemirror_mode": {
    "name": "ipython",
    "version": 3
   },
   "file_extension": ".py",
   "mimetype": "text/x-python",
   "name": "python",
   "nbconvert_exporter": "python",
   "pygments_lexer": "ipython3",
   "version": "3.12.7"
  }
 },
 "nbformat": 4,
 "nbformat_minor": 5
}
